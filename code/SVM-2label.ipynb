{
 "cells": [
  {
   "cell_type": "code",
   "execution_count": 1,
   "metadata": {
    "colab": {},
    "colab_type": "code",
    "id": "VTdrOs41T1jM"
   },
   "outputs": [],
   "source": [
    "import numpy as np\n",
    "import pandas as pd\n",
    "from sklearn.model_selection import cross_val_predict, cross_val_score\n",
    "from sklearn.metrics import accuracy_score, classification_report, confusion_matrix\n",
    "from scipy.signal import savgol_filter\n",
    "from sklearn.model_selection import train_test_split\n",
    "from sklearn.discriminant_analysis import LinearDiscriminantAnalysis as LDA\n",
    "from sklearn import svm\n",
    "from sklearn.metrics import confusion_matrix  \n",
    "from sklearn.metrics import accuracy_score\n",
    "import matplotlib.pyplot as plt\n",
    "from sklearn.model_selection import KFold\n",
    "from sklearn.preprocessing import StandardScaler\n",
    "from sklearn.decomposition import PCA\n",
    "from sklearn.svm import LinearSVC"
   ]
  },
  {
   "cell_type": "code",
   "execution_count": 2,
   "metadata": {
    "colab": {
     "base_uri": "https://localhost:8080/",
     "height": 1000
    },
    "colab_type": "code",
    "executionInfo": {
     "elapsed": 2805,
     "status": "ok",
     "timestamp": 1571346755346,
     "user": {
      "displayName": "Angeline Jebakumari Lawrence",
      "photoUrl": "https://lh5.googleusercontent.com/-Wdp4PZXuw_4/AAAAAAAAAAI/AAAAAAAAEwk/309wOI0WfYo/s64/photo.jpg",
      "userId": "12182255129391102570"
     },
     "user_tz": 300
    },
    "id": "L6slxw7uT1jd",
    "outputId": "2f289a03-3525-4a29-8c38-4e1e28d0d9f3"
   },
   "outputs": [],
   "source": [
    "df = pd.read_csv('X_HW_data.csv')\n",
    "# df = pd.read_csv('X_HW_data_Augmented.csv')\n",
    "# df = pd.read_csv('Just_Augmented.csv')\n",
    "\n",
    "label_dict = {1:0,2:0,3:0,4:1}\n",
    "df['label'] = df[\"label\"].map(label_dict)\n",
    "df = df.values"
   ]
  },
  {
   "cell_type": "code",
   "execution_count": 3,
   "metadata": {
    "colab": {
     "base_uri": "https://localhost:8080/",
     "height": 146
    },
    "colab_type": "code",
    "executionInfo": {
     "elapsed": 676,
     "status": "ok",
     "timestamp": 1571344437336,
     "user": {
      "displayName": "Angeline Jebakumari Lawrence",
      "photoUrl": "https://lh5.googleusercontent.com/-Wdp4PZXuw_4/AAAAAAAAAAI/AAAAAAAAEwk/309wOI0WfYo/s64/photo.jpg",
      "userId": "12182255129391102570"
     },
     "user_tz": 300
    },
    "id": "AmR5HjItT1jq",
    "outputId": "c6273889-9fcc-4efd-a629-3b598e1ba4f2"
   },
   "outputs": [],
   "source": [
    "X = df[:,2:]\n",
    "y = df[:,1]"
   ]
  },
  {
   "cell_type": "code",
   "execution_count": 4,
   "metadata": {},
   "outputs": [],
   "source": [
    "#using Standard Scaler\n",
    "scaler = StandardScaler()\n",
    "scaler.fit(X)\n",
    "df_s = scaler.transform(X)\n",
    "\n",
    "# #applying PCA\n",
    "pca_model = PCA(n_components=100).fit_transform(df_s)\n",
    "pca_df = pd.DataFrame(data = pca_model)\n",
    "# pca_df"
   ]
  },
  {
   "cell_type": "code",
   "execution_count": 5,
   "metadata": {},
   "outputs": [],
   "source": [
    "# Savitzky-Golay filter with second degree derivative\n",
    "sg=savgol_filter(pca_df,window_length=11, polyorder=3, deriv=2, delta=1.0)"
   ]
  },
  {
   "cell_type": "code",
   "execution_count": 6,
   "metadata": {
    "scrolled": true
   },
   "outputs": [],
   "source": [
    "# lda = LDA(n_components=18)  \n",
    "# X = lda.fit_transform(X, y)\n"
   ]
  },
  {
   "cell_type": "code",
   "execution_count": 7,
   "metadata": {
    "colab": {},
    "colab_type": "code",
    "id": "I4CvNacFT1kV"
   },
   "outputs": [],
   "source": [
    "X_train, X_test, y_train, y_test = train_test_split(sg, y, train_size=0.8, random_state=23,stratify = y)"
   ]
  },
  {
   "cell_type": "code",
   "execution_count": 8,
   "metadata": {
    "colab": {},
    "colab_type": "code",
    "id": "xQT1LvPOkiGd"
   },
   "outputs": [
    {
     "name": "stdout",
     "output_type": "stream",
     "text": [
      "[[45  0]\n",
      " [15  0]]\n",
      "Accuracy0.75\n"
     ]
    },
    {
     "name": "stderr",
     "output_type": "stream",
     "text": [
      "C:\\Users\\Mahya\\Anaconda3\\lib\\site-packages\\sklearn\\svm\\base.py:929: ConvergenceWarning: Liblinear failed to converge, increase the number of iterations.\n",
      "  \"the number of iterations.\", ConvergenceWarning)\n"
     ]
    }
   ],
   "source": [
    "#Using Support Vector Machine\n",
    "clf = svm.SVC(kernel=\"linear\")\n",
    "clf.fit(X_train, y_train)  \n",
    "y_pred = clf.predict(X_test)\n",
    "\n",
    "classifier = svm.LinearSVC(random_state=23)\n",
    "classifier.fit(X_train, y_train)\n",
    "y_score = classifier.decision_function(X_test)\n",
    "\n",
    "\n",
    "cm = confusion_matrix(y_test, y_pred)  \n",
    "print(cm)  \n",
    "print('Accuracy' + str(accuracy_score(y_test, y_pred)))"
   ]
  },
  {
   "cell_type": "code",
   "execution_count": 9,
   "metadata": {},
   "outputs": [
    {
     "name": "stdout",
     "output_type": "stream",
     "text": [
      "Average precision-recall score: 0.40\n"
     ]
    }
   ],
   "source": [
    "from sklearn.metrics import average_precision_score\n",
    "average_precision = average_precision_score(y_test, y_score)\n",
    "\n",
    "print('Average precision-recall score: {0:0.2f}'.format(\n",
    "      average_precision))"
   ]
  },
  {
   "cell_type": "code",
   "execution_count": null,
   "metadata": {},
   "outputs": [],
   "source": []
  },
  {
   "cell_type": "code",
   "execution_count": null,
   "metadata": {},
   "outputs": [],
   "source": []
  }
 ],
 "metadata": {
  "colab": {
   "collapsed_sections": [],
   "name": "classification_plasma.ipynb",
   "provenance": []
  },
  "kernelspec": {
   "display_name": "Python 3",
   "language": "python",
   "name": "python3"
  },
  "language_info": {
   "codemirror_mode": {
    "name": "ipython",
    "version": 3
   },
   "file_extension": ".py",
   "mimetype": "text/x-python",
   "name": "python",
   "nbconvert_exporter": "python",
   "pygments_lexer": "ipython3",
   "version": "3.7.3"
  }
 },
 "nbformat": 4,
 "nbformat_minor": 1
}
